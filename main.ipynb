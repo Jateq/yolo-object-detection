{
 "cells": [
  {
   "cell_type": "code",
   "execution_count": 1,
   "metadata": {},
   "outputs": [],
   "source": [
    "import cv2\n",
    "import numpy as np\n",
    "import urllib.request\n"
   ]
  },
  {
   "cell_type": "code",
   "execution_count": 2,
   "metadata": {},
   "outputs": [
    {
     "name": "stderr",
     "output_type": "stream",
     "text": [
      "[mjpeg @ 0x10fe91fc0] No JPEG data found in image\n"
     ]
    }
   ],
   "source": [
    "url = 'http://192.168.1.6/cam-hi.jpg'\n",
    "\n",
    "cap = cv2.VideoCapture(url)\n",
    "whT=320\n",
    "confThreshold = 0.5\n",
    "nmsThreshold = 0.3\n",
    "classesfile='custom_data/classes.names'\n",
    "classNames=[]\n",
    "with open(classesfile,'rt') as f:\n",
    "    classNames=f.read().rstrip('\\n').split('\\n')\n"
   ]
  },
  {
   "cell_type": "code",
   "execution_count": 3,
   "metadata": {},
   "outputs": [
    {
     "name": "stderr",
     "output_type": "stream",
     "text": [
      "[mjpeg @ 0x10ff1da90] No JPEG data found in image\n"
     ]
    },
    {
     "ename": "error",
     "evalue": "OpenCV(4.8.1) /Users/xperience/GHA-OpenCV-Python/_work/opencv-python/opencv-python/opencv/modules/imgproc/src/resize.cpp:4062: error: (-215:Assertion failed) !ssize.empty() in function 'resize'\n",
     "output_type": "error",
     "traceback": [
      "\u001b[0;31m---------------------------------------------------------------------------\u001b[0m",
      "\u001b[0;31merror\u001b[0m                                     Traceback (most recent call last)",
      "\u001b[1;32m/Users/jateq/Documents/classes/acd-ass4/main.ipynb Cell 3\u001b[0m line \u001b[0;36m4\n\u001b[1;32m     <a href='vscode-notebook-cell:/Users/jateq/Documents/classes/acd-ass4/main.ipynb#W2sZmlsZQ%3D%3D?line=44'>45</a>\u001b[0m im \u001b[39m=\u001b[39m cv2\u001b[39m.\u001b[39mimdecode(imgnp,\u001b[39m-\u001b[39m\u001b[39m1\u001b[39m)\n\u001b[1;32m     <a href='vscode-notebook-cell:/Users/jateq/Documents/classes/acd-ass4/main.ipynb#W2sZmlsZQ%3D%3D?line=45'>46</a>\u001b[0m sucess, img\u001b[39m=\u001b[39m cap\u001b[39m.\u001b[39mread()\n\u001b[0;32m---> <a href='vscode-notebook-cell:/Users/jateq/Documents/classes/acd-ass4/main.ipynb#W2sZmlsZQ%3D%3D?line=46'>47</a>\u001b[0m blob\u001b[39m=\u001b[39mcv2\u001b[39m.\u001b[39;49mdnn\u001b[39m.\u001b[39;49mblobFromImage(im,\u001b[39m1\u001b[39;49m\u001b[39m/\u001b[39;49m\u001b[39m255\u001b[39;49m,(whT,whT),[\u001b[39m0\u001b[39;49m,\u001b[39m0\u001b[39;49m,\u001b[39m0\u001b[39;49m],\u001b[39m1\u001b[39;49m,crop\u001b[39m=\u001b[39;49m\u001b[39mFalse\u001b[39;49;00m)\n\u001b[1;32m     <a href='vscode-notebook-cell:/Users/jateq/Documents/classes/acd-ass4/main.ipynb#W2sZmlsZQ%3D%3D?line=47'>48</a>\u001b[0m net\u001b[39m.\u001b[39msetInput(blob)\n\u001b[1;32m     <a href='vscode-notebook-cell:/Users/jateq/Documents/classes/acd-ass4/main.ipynb#W2sZmlsZQ%3D%3D?line=48'>49</a>\u001b[0m layernames\u001b[39m=\u001b[39mnet\u001b[39m.\u001b[39mgetLayerNames()\n",
      "\u001b[0;31merror\u001b[0m: OpenCV(4.8.1) /Users/xperience/GHA-OpenCV-Python/_work/opencv-python/opencv-python/opencv/modules/imgproc/src/resize.cpp:4062: error: (-215:Assertion failed) !ssize.empty() in function 'resize'\n"
     ]
    }
   ],
   "source": [
    "\n",
    "modelConfig = 'yolov3_custom.cfg'\n",
    "modelWeights= 'yolov3_custom_2000.weights'\n",
    "net = cv2.dnn.readNetFromDarknet(modelConfig,modelWeights)\n",
    "net.setPreferableBackend(cv2.dnn.DNN_BACKEND_OPENCV)\n",
    "net.setPreferableTarget(cv2.dnn.DNN_TARGET_CPU)\n",
    "def findObject(outputs,im):\n",
    "    hT,wT,cT = im.shape\n",
    "    bbox = []\n",
    "    classIds = []\n",
    "    confs = []\n",
    "    found_cat = False\n",
    "    found_bird = False\n",
    "    for output in outputs:\n",
    "        for det in output:\n",
    "            scores = det[5:]\n",
    "            classId = np.argmax(scores)\n",
    "            confidence = scores[classId]\n",
    "            if confidence > confThreshold:\n",
    "                w,h = int(det[2]*wT), int(det[3]*hT)\n",
    "                x,y = int((det[0]*wT)-w/2), int((det[1]*hT)-h/2)\n",
    "                bbox.append([x,y,w,h])\n",
    "                classIds.append(classId)\n",
    "                confs.append(float(confidence))\n",
    "    \n",
    "    indices = cv2.dnn.NMSBoxes(bbox,confs,confThreshold,nmsThreshold)\n",
    "    print(indices)\n",
    "   \n",
    "    for i in indices:\n",
    "        i = i[0]\n",
    "        box = bbox[i]\n",
    "        x,y,w,h = box[0],box[1],box[2],box[3]\n",
    "        if classNames[classIds[i]] == 'bird':\n",
    "            found_bird = True\n",
    "        elif classNames[classIds[i]] == 'cat':\n",
    "            found_cat = True\n",
    "            \n",
    "        cv2.rectangle(im,(x,y),(x+w,y+h),(255,0,255),2)\n",
    "        cv2.putText(im, f'{classNames[classIds[i]].upper()} {int(confs[i]*100)}%', (x,y-10), cv2.FONT_HERSHEY_SIMPLEX, 0.6, (255,0,255), 2)\n",
    "       \n",
    "\n",
    "\n",
    "while True:\n",
    "    img_resp=urllib.request.urlopen(url)\n",
    "    imgnp=np.array(bytearray(img_resp.read()),dtype=np.uint8)\n",
    "    im = cv2.imdecode(imgnp,-1)\n",
    "    sucess, img= cap.read()\n",
    "    blob=cv2.dnn.blobFromImage(im,1/255,(whT,whT),[0,0,0],1,crop=False)\n",
    "    net.setInput(blob)\n",
    "    layernames=net.getLayerNames()\n",
    "    outputNames = [layernames[i[0]-1] for i in net.getUnconnectedOutLayers()]\n",
    "\n",
    "    outputs = net.forward(outputNames)\n",
    "\n",
    "    findObject(outputs,im)\n",
    "\n",
    "\n",
    "    cv2.imshow('IMage',im)\n",
    "    cv2.waitKey(1)"
   ]
  }
 ],
 "metadata": {
  "kernelspec": {
   "display_name": "Python 3",
   "language": "python",
   "name": "python3"
  },
  "language_info": {
   "codemirror_mode": {
    "name": "ipython",
    "version": 3
   },
   "file_extension": ".py",
   "mimetype": "text/x-python",
   "name": "python",
   "nbconvert_exporter": "python",
   "pygments_lexer": "ipython3",
   "version": "3.9.6"
  }
 },
 "nbformat": 4,
 "nbformat_minor": 2
}
